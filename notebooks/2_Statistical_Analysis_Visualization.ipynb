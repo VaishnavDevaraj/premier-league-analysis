{
 "cells": [
  {
   "cell_type": "markdown",
   "id": "c3381039",
   "metadata": {},
   "source": [
    "# Premier League 2024-25 Data Analysis - Part 2: Statistical Analysis & Visualization\n",
    "\n",
    "This notebook focuses on applying statistical techniques and creating visualizations to gain insights from the Premier League 2024-25 dataset."
   ]
  },
  {
   "cell_type": "markdown",
   "id": "25539fd7",
   "metadata": {},
   "source": [
    "## 1. Import Libraries"
   ]
  },
  {
   "cell_type": "code",
   "execution_count": null,
   "id": "96d4a8df",
   "metadata": {},
   "outputs": [],
   "source": [
    "# Import necessary libraries\n",
    "import pandas as pd\n",
    "import numpy as np\n",
    "import matplotlib.pyplot as plt\n",
    "import seaborn as sns\n",
    "import plotly.express as px\n",
    "import plotly.graph_objects as go\n",
    "from plotly.subplots import make_subplots\n",
    "from scipy import stats\n",
    "import statsmodels.api as sm\n",
    "from statsmodels.formula.api import ols\n",
    "\n",
    "# Set plot style\n",
    "plt.style.use('seaborn-v0_8-whitegrid')\n",
    "sns.set_palette('viridis')\n",
    "plt.rcParams['figure.figsize'] = [12, 8]\n",
    "\n",
    "# Display settings\n",
    "%matplotlib inline\n",
    "pd.set_option('display.max_columns', None)\n",
    "pd.set_option('display.max_rows', 100)\n",
    "pd.set_option('display.width', 1000)"
   ]
  },
  {
   "cell_type": "markdown",
   "id": "c3adab95",
   "metadata": {},
   "source": [
    "## 2. Load the Cleaned Data"
   ]
  },
  {
   "cell_type": "code",
   "execution_count": null,
   "id": "cbc9075d",
   "metadata": {},
   "outputs": [],
   "source": [
    "# Load the cleaned dataset\n",
    "cleaned_file_path = '../data/pl_2024_25_cleaned.csv'\n",
    "df = pd.read_csv(cleaned_file_path)\n",
    "\n",
    "# Display the first few rows of the cleaned dataset\n",
    "print(f\"Dataset shape: {df.shape}\")\n",
    "df.head()"
   ]
  },
  {
   "cell_type": "markdown",
   "id": "db717176",
   "metadata": {},
   "source": [
    "## 3. Descriptive Statistics"
   ]
  },
  {
   "cell_type": "code",
   "execution_count": null,
   "id": "909255ed",
   "metadata": {},
   "outputs": [],
   "source": [
    "# Generate comprehensive descriptive statistics\n",
    "desc_stats = df.describe(include='all').T\n",
    "\n",
    "# Add additional statistical measures\n",
    "desc_stats['skewness'] = df.skew(numeric_only=True)\n",
    "desc_stats['kurtosis'] = df.kurtosis(numeric_only=True)\n",
    "\n",
    "# Display the results\n",
    "desc_stats"
   ]
  },
  {
   "cell_type": "markdown",
   "id": "94a17ca1",
   "metadata": {},
   "source": [
    "## 4. Key Performance Metrics Visualization"
   ]
  },
  {
   "cell_type": "code",
   "execution_count": null,
   "id": "d77a2e55",
   "metadata": {},
   "outputs": [],
   "source": [
    "# Example visualization for key performance metrics\n",
    "# (assuming columns like 'team', 'goals', 'points', etc. exist - to be modified based on actual data)\n",
    "\n",
    "# Top teams by points\n",
    "# plt.figure(figsize=(14, 8))\n",
    "# sns.barplot(x='points', y='team', data=df.sort_values('points', ascending=False).head(10))\n",
    "# plt.title('Top 10 Teams by Points')\n",
    "# plt.xlabel('Points')\n",
    "# plt.ylabel('Team')\n",
    "# plt.tight_layout()\n",
    "# plt.show()"
   ]
  },
  {
   "cell_type": "code",
   "execution_count": null,
   "id": "cda35551",
   "metadata": {},
   "outputs": [],
   "source": [
    "# Goals scored vs. goals conceded\n",
    "# (assuming columns like 'team', 'goals_for', 'goals_against' exist - to be modified based on actual data)\n",
    "\n",
    "# plt.figure(figsize=(12, 10))\n",
    "# plt.scatter(df['goals_for'], df['goals_against'], s=100, alpha=0.7)\n",
    "# \n",
    "# for i, team in enumerate(df['team']):\n",
    "#     plt.annotate(team, \n",
    "#                  (df['goals_for'].iloc[i], df['goals_against'].iloc[i]),\n",
    "#                  xytext=(5, 5), textcoords='offset points')\n",
    "#     \n",
    "# plt.axhline(y=df['goals_against'].mean(), color='r', linestyle='--', alpha=0.3, label='Avg Goals Against')\n",
    "# plt.axvline(x=df['goals_for'].mean(), color='g', linestyle='--', alpha=0.3, label='Avg Goals For')\n",
    "# \n",
    "# plt.title('Goals Scored vs. Goals Conceded by Team')\n",
    "# plt.xlabel('Goals Scored')\n",
    "# plt.ylabel('Goals Conceded')\n",
    "# plt.grid(True, alpha=0.3)\n",
    "# plt.legend()\n",
    "# plt.tight_layout()\n",
    "# plt.show()"
   ]
  },
  {
   "cell_type": "markdown",
   "id": "bd584409",
   "metadata": {},
   "source": [
    "## 5. Statistical Tests"
   ]
  },
  {
   "cell_type": "code",
   "execution_count": null,
   "id": "78312dd2",
   "metadata": {},
   "outputs": [],
   "source": [
    "# Example: t-test to compare home vs. away performance\n",
    "# (assuming columns like 'home_goals', 'away_goals' exist - to be modified based on actual data)\n",
    "\n",
    "# t_stat, p_value = stats.ttest_ind(df['home_goals'], df['away_goals'])\n",
    "# print(f\"T-test for Home vs. Away Goals:\")\n",
    "# print(f\"t-statistic: {t_stat:.4f}\")\n",
    "# print(f\"p-value: {p_value:.4f}\")\n",
    "# print(f\"Conclusion: {'Statistically significant difference' if p_value < 0.05 else 'No statistically significant difference'}\")"
   ]
  },
  {
   "cell_type": "code",
   "execution_count": null,
   "id": "d6956e4d",
   "metadata": {},
   "outputs": [],
   "source": [
    "# Example: Chi-square test for association between categorical variables\n",
    "# (to be modified based on actual data)\n",
    "\n",
    "# contingency_table = pd.crosstab(df['result'], df['home_away'])\n",
    "# chi2, p, dof, expected = stats.chi2_contingency(contingency_table)\n",
    "# \n",
    "# print(f\"Contingency table:\\n{contingency_table}\\n\")\n",
    "# print(f\"Chi-square test for association between Result and Home/Away:\")\n",
    "# print(f\"Chi2 value: {chi2:.4f}\")\n",
    "# print(f\"p-value: {p:.4f}\")\n",
    "# print(f\"Conclusion: {'Statistically significant association' if p < 0.05 else 'No statistically significant association'}\")"
   ]
  },
  {
   "cell_type": "markdown",
   "id": "6c7ce265",
   "metadata": {},
   "source": [
    "## 6. Correlation Analysis"
   ]
  },
  {
   "cell_type": "code",
   "execution_count": null,
   "id": "cbe5739d",
   "metadata": {},
   "outputs": [],
   "source": [
    "# Select numerical columns for correlation analysis\n",
    "numerical_cols = df.select_dtypes(include=['int64', 'float64']).columns.tolist()\n",
    "\n",
    "# Calculate correlation matrix\n",
    "corr_matrix = df[numerical_cols].corr()\n",
    "\n",
    "# Create heatmap\n",
    "plt.figure(figsize=(16, 12))\n",
    "mask = np.triu(np.ones_like(corr_matrix, dtype=bool))\n",
    "sns.heatmap(corr_matrix, mask=mask, annot=True, cmap='coolwarm', fmt='.2f', linewidths=0.5)\n",
    "plt.title('Correlation Matrix of Numerical Features', fontsize=16)\n",
    "plt.xticks(rotation=45, ha='right')\n",
    "plt.tight_layout()\n",
    "plt.show()"
   ]
  },
  {
   "cell_type": "code",
   "execution_count": null,
   "id": "e29eb53c",
   "metadata": {},
   "outputs": [],
   "source": [
    "# Identify highly correlated features\n",
    "threshold = 0.7\n",
    "high_corr = (corr_matrix.abs() > threshold) & (corr_matrix != 1.0)\n",
    "\n",
    "# Get pairs of highly correlated features\n",
    "correlated_pairs = []\n",
    "for i in range(len(corr_matrix.columns)):\n",
    "    for j in range(i):\n",
    "        if high_corr.iloc[i, j]:\n",
    "            correlated_pairs.append((corr_matrix.columns[i], corr_matrix.columns[j], corr_matrix.iloc[i, j]))\n",
    "\n",
    "# Display the results\n",
    "if correlated_pairs:\n",
    "    corr_df = pd.DataFrame(correlated_pairs, columns=['Feature 1', 'Feature 2', 'Correlation'])\n",
    "    corr_df = corr_df.sort_values('Correlation', ascending=False)\n",
    "    print(f\"Highly correlated features (|r| > {threshold}):\")\n",
    "    corr_df\n",
    "else:\n",
    "    print(f\"No feature pairs with correlation higher than {threshold}\")"
   ]
  },
  {
   "cell_type": "markdown",
   "id": "df378eb8",
   "metadata": {},
   "source": [
    "## 7. Advanced Visualizations"
   ]
  },
  {
   "cell_type": "code",
   "execution_count": null,
   "id": "0c9c9fe9",
   "metadata": {},
   "outputs": [],
   "source": [
    "# Example: Create an interactive scatter plot using Plotly\n",
    "# (to be modified based on actual data)\n",
    "\n",
    "# fig = px.scatter(df, x='shots', y='goals', color='team', size='xG',\n",
    "#                  hover_name='team', log_x=True, size_max=15,\n",
    "#                  title='Relationship between Shots, Goals, and Expected Goals (xG)')\n",
    "# \n",
    "# fig.update_layout(\n",
    "#     xaxis_title='Number of Shots (log scale)',\n",
    "#     yaxis_title='Number of Goals',\n",
    "#     legend_title='Team',\n",
    "#     height=600,\n",
    "#     width=900\n",
    "# )\n",
    "# \n",
    "# fig.show()"
   ]
  },
  {
   "cell_type": "code",
   "execution_count": null,
   "id": "3b684bfc",
   "metadata": {},
   "outputs": [],
   "source": [
    "# Example: Create a radar chart for team comparison\n",
    "# (to be modified based on actual data)\n",
    "\n",
    "# def create_radar_chart(team_names, metrics):\n",
    "#     \n",
    "#     # Filter data for selected teams\n",
    "#     teams_data = df[df['team'].isin(team_names)]\n",
    "#     \n",
    "#     # Create figure\n",
    "#     fig = go.Figure()\n",
    "#     \n",
    "#     # Add traces for each team\n",
    "#     for team in team_names:\n",
    "#         team_data = teams_data[teams_data['team'] == team]\n",
    "#         values = team_data[metrics].values.flatten().tolist()\n",
    "#         values += [values[0]]  # Close the loop\n",
    "#         \n",
    "#         fig.add_trace(go.Scatterpolar(\n",
    "#             r=values,\n",
    "#             theta=[*metrics, metrics[0]],\n",
    "#             fill='toself',\n",
    "#             name=team\n",
    "#         ))\n",
    "#     \n",
    "#     # Update layout\n",
    "#     fig.update_layout(\n",
    "#         polar=dict(\n",
    "#             radialaxis=dict(\n",
    "#                 visible=True,\n",
    "#             )\n",
    "#         ),\n",
    "#         title=\"Team Comparison across Key Metrics\",\n",
    "#         height=600,\n",
    "#         width=800\n",
    "#     )\n",
    "#     \n",
    "#     return fig\n",
    "# \n",
    "# # Example usage (to be modified based on actual data)\n",
    "# # team_names = ['Manchester City', 'Liverpool', 'Arsenal']\n",
    "# # metrics = ['points', 'goals_for', 'goals_against', 'shots', 'possession']\n",
    "# # radar_fig = create_radar_chart(team_names, metrics)\n",
    "# # radar_fig.show()"
   ]
  },
  {
   "cell_type": "markdown",
   "id": "235db54b",
   "metadata": {},
   "source": [
    "## 8. Time Series Analysis"
   ]
  },
  {
   "cell_type": "code",
   "execution_count": null,
   "id": "e849047d",
   "metadata": {},
   "outputs": [],
   "source": [
    "# Example: Analyze performance trends over time\n",
    "# (assuming a date/match_week column exists - to be modified based on actual data)\n",
    "\n",
    "# # Convert date column to datetime if needed\n",
    "# # df['date'] = pd.to_datetime(df['date'])\n",
    "# \n",
    "# # Group by date and calculate metrics\n",
    "# # time_series = df.groupby('match_week').agg({\n",
    "# #     'goals': 'sum',\n",
    "# #     'shots': 'sum',\n",
    "# #     'cards': 'sum'\n",
    "# # }).reset_index()\n",
    "# \n",
    "# # Plot time series\n",
    "# # plt.figure(figsize=(15, 10))\n",
    "# \n",
    "# # plt.subplot(3, 1, 1)\n",
    "# # plt.plot(time_series['match_week'], time_series['goals'], marker='o', linestyle='-')\n",
    "# # plt.title('Goals per Match Week')\n",
    "# # plt.grid(True, alpha=0.3)\n",
    "# \n",
    "# # plt.subplot(3, 1, 2)\n",
    "# # plt.plot(time_series['match_week'], time_series['shots'], marker='s', linestyle='-', color='orange')\n",
    "# # plt.title('Shots per Match Week')\n",
    "# # plt.grid(True, alpha=0.3)\n",
    "# \n",
    "# # plt.subplot(3, 1, 3)\n",
    "# # plt.plot(time_series['match_week'], time_series['cards'], marker='^', linestyle='-', color='red')\n",
    "# # plt.title('Cards per Match Week')\n",
    "# # plt.grid(True, alpha=0.3)\n",
    "# \n",
    "# # plt.tight_layout()\n",
    "# # plt.show()"
   ]
  },
  {
   "cell_type": "markdown",
   "id": "1952dc83",
   "metadata": {},
   "source": [
    "## 9. Hypothesis Testing"
   ]
  },
  {
   "cell_type": "code",
   "execution_count": null,
   "id": "5f433b4d",
   "metadata": {},
   "outputs": [],
   "source": [
    "# Example: Test hypotheses about team performance\n",
    "# (to be modified based on actual data)\n",
    "\n",
    "# Hypothesis 1: Home teams score more goals than away teams\n",
    "# t_stat, p_value = stats.ttest_ind(df['home_goals'], df['away_goals'])\n",
    "# alpha = 0.05\n",
    "# print(f\"Hypothesis 1: Home teams score more goals than away teams\")\n",
    "# print(f\"t-statistic: {t_stat:.4f}, p-value: {p_value:.4f}\")\n",
    "# print(f\"Result: {'Reject null hypothesis' if p_value < alpha else 'Fail to reject null hypothesis'}\")\n",
    "# print(f\"Interpretation: {'There is a significant difference in goals scored by home vs. away teams' if p_value < alpha else 'There is no significant difference in goals scored by home vs. away teams'}\\n\")\n",
    "\n",
    "# Hypothesis 2: Teams with higher possession have higher win rates\n",
    "# correlation = df['possession'].corr(df['win_rate'])\n",
    "# t_stat = correlation * np.sqrt((len(df) - 2) / (1 - correlation**2))\n",
    "# p_value = 2 * (1 - stats.t.cdf(abs(t_stat), len(df) - 2))\n",
    "# print(f\"Hypothesis 2: Teams with higher possession have higher win rates\")\n",
    "# print(f\"Correlation: {correlation:.4f}, t-statistic: {t_stat:.4f}, p-value: {p_value:.4f}\")\n",
    "# print(f\"Result: {'Reject null hypothesis' if p_value < alpha else 'Fail to reject null hypothesis'}\")\n",
    "# print(f\"Interpretation: {'There is a significant correlation between possession and win rate' if p_value < alpha else 'There is no significant correlation between possession and win rate'}\")"
   ]
  },
  {
   "cell_type": "markdown",
   "id": "8ea2a7e6",
   "metadata": {},
   "source": [
    "## 10. Probability Analysis"
   ]
  },
  {
   "cell_type": "code",
   "execution_count": null,
   "id": "45633896",
   "metadata": {},
   "outputs": [],
   "source": [
    "# Example: Calculate win probabilities based on various factors\n",
    "# (to be modified based on actual data)\n",
    "\n",
    "# # Calculate win probability by home/away status\n",
    "# home_away_results = df.groupby('home_away').agg({\n",
    "#     'wins': 'sum',\n",
    "#     'games': 'sum'\n",
    "# })\n",
    "# home_away_results['win_probability'] = home_away_results['wins'] / home_away_results['games']\n",
    "# \n",
    "# # Display results\n",
    "# print(\"Win Probability by Home/Away Status:\")\n",
    "# print(home_away_results[['win_probability']])\n",
    "# \n",
    "# # Visualize\n",
    "# plt.figure(figsize=(10, 6))\n",
    "# sns.barplot(x=home_away_results.index, y='win_probability', data=home_away_results)\n",
    "# plt.title('Win Probability: Home vs. Away')\n",
    "# plt.ylim(0, 1)\n",
    "# plt.ylabel('Probability')\n",
    "# plt.grid(axis='y', alpha=0.3)\n",
    "# plt.show()"
   ]
  },
  {
   "cell_type": "markdown",
   "id": "817d1cbc",
   "metadata": {},
   "source": [
    "## 11. Save Visualizations"
   ]
  },
  {
   "cell_type": "code",
   "execution_count": null,
   "id": "8a21b15a",
   "metadata": {},
   "outputs": [],
   "source": [
    "# Save key visualizations for the dashboard and report\n",
    "# (to be implemented based on actual visualizations created)\n",
    "\n",
    "# Example:\n",
    "# plt.figure(figsize=(12, 8))\n",
    "# sns.barplot(x='team', y='points', data=df.sort_values('points', ascending=False))\n",
    "# plt.title('Teams by Points')\n",
    "# plt.xticks(rotation=45, ha='right')\n",
    "# plt.tight_layout()\n",
    "# plt.savefig('../visualizations/team_points.png', dpi=300)\n",
    "# plt.close()"
   ]
  },
  {
   "cell_type": "markdown",
   "id": "589107ac",
   "metadata": {},
   "source": [
    "## 12. Next Steps\n",
    "\n",
    "In the next notebook, we'll:\n",
    "1. Prepare the data for machine learning models\n",
    "2. Implement various prediction models\n",
    "3. Evaluate model performance\n",
    "4. Generate predictions"
   ]
  }
 ],
 "metadata": {
  "language_info": {
   "name": "python"
  }
 },
 "nbformat": 4,
 "nbformat_minor": 5
}
