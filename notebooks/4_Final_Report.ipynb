{
 "cells": [
  {
   "cell_type": "markdown",
   "id": "84799d1e",
   "metadata": {},
   "source": [
    "# Premier League 2024-25 Data Analysis - Part 4: Final Report\n",
    "\n",
    "This notebook synthesizes our findings from the Premier League data analysis project into a comprehensive report. It includes key insights, visualizations, and model results."
   ]
  },
  {
   "cell_type": "markdown",
   "id": "17dfd4cf",
   "metadata": {},
   "source": [
    "## 1. Project Overview"
   ]
  },
  {
   "cell_type": "markdown",
   "id": "7f2f6485",
   "metadata": {},
   "source": [
    "### 1.1 Introduction\n",
    "\n",
    "This project provides an end-to-end analysis of the English Premier League 2024-25 season. We've explored team and player performance, analyzed match outcomes, and built predictive models to forecast future results.\n",
    "\n",
    "### 1.2 Project Objectives\n",
    "\n",
    "1. Explore and clean Premier League 2024-25 data\n",
    "2. Identify key performance metrics and trends\n",
    "3. Apply statistical analysis to understand team and player performance\n",
    "4. Build predictive models for match outcomes\n",
    "5. Create interactive visualizations and dashboards\n",
    "\n",
    "### 1.3 Dataset Description\n",
    "\n",
    "The analysis is based on the FBref Premier League 2024-25 dataset, which includes match results, team statistics, and player performance metrics. The dataset contains information on all matches played during the 2024-25 season up to the current date."
   ]
  },
  {
   "cell_type": "markdown",
   "id": "6a6cf292",
   "metadata": {},
   "source": [
    "## 2. Import Libraries"
   ]
  },
  {
   "cell_type": "code",
   "execution_count": null,
   "id": "7f7eb8bf",
   "metadata": {},
   "outputs": [],
   "source": [
    "# Import necessary libraries\n",
    "import pandas as pd\n",
    "import numpy as np\n",
    "import matplotlib.pyplot as plt\n",
    "import seaborn as sns\n",
    "import plotly.express as px\n",
    "import plotly.graph_objects as go\n",
    "from plotly.subplots import make_subplots\n",
    "import pickle\n",
    "from IPython.display import Markdown, display\n",
    "from pathlib import Path\n",
    "\n",
    "# Set plot style\n",
    "plt.style.use('seaborn-v0_8-whitegrid')\n",
    "sns.set_palette('viridis')\n",
    "plt.rcParams['figure.figsize'] = [12, 8]\n",
    "\n",
    "# Display settings\n",
    "%matplotlib inline\n",
    "pd.set_option('display.max_columns', None)\n",
    "pd.set_option('display.max_rows', 100)\n",
    "pd.set_option('display.width', 1000)"
   ]
  },
  {
   "cell_type": "markdown",
   "id": "4b490e2d",
   "metadata": {},
   "source": [
    "## 3. Load the Data and Results"
   ]
  },
  {
   "cell_type": "code",
   "execution_count": null,
   "id": "a8758173",
   "metadata": {},
   "outputs": [],
   "source": [
    "# Load the cleaned dataset\n",
    "cleaned_file_path = '../data/pl_2024_25_cleaned.csv'\n",
    "df = pd.read_csv(cleaned_file_path)\n",
    "\n",
    "# Display the first few rows of the cleaned dataset\n",
    "print(f\"Dataset shape: {df.shape}\")\n",
    "df.head()"
   ]
  },
  {
   "cell_type": "code",
   "execution_count": null,
   "id": "9ce65e7f",
   "metadata": {},
   "outputs": [],
   "source": [
    "# Load saved model (if available)\n",
    "try:\n",
    "    model_files = list(Path(\"../models\").glob(\"*.pkl\"))\n",
    "    if model_files:\n",
    "        latest_model = max(model_files, key=lambda x: x.stat().st_mtime)\n",
    "        with open(latest_model, 'rb') as file:\n",
    "            model = pickle.load(file)\n",
    "        print(f\"Loaded model: {latest_model.name}\")\n",
    "    else:\n",
    "        model = None\n",
    "        print(\"No model found in the models directory.\")\n",
    "except Exception as e:\n",
    "    model = None\n",
    "    print(f\"Error loading model: {e}\")"
   ]
  },
  {
   "cell_type": "markdown",
   "id": "c937c443",
   "metadata": {},
   "source": [
    "## 4. Executive Summary"
   ]
  },
  {
   "cell_type": "markdown",
   "id": "1494c1bd",
   "metadata": {},
   "source": [
    "This section provides a high-level summary of our key findings from the Premier League 2024-25 data analysis.\n",
    "\n",
    "**Key Insights:**\n",
    "\n",
    "1. **Team Performance Analysis:** [Summary of team performance findings]\n",
    "2. **Player Analysis:** [Summary of player performance findings]\n",
    "3. **Match Outcome Predictions:** [Summary of prediction model performance]\n",
    "4. **Statistical Trends:** [Summary of interesting statistical trends]\n",
    "\n",
    "**Note:** The actual insights will be filled in based on the findings from the previous notebooks."
   ]
  },
  {
   "cell_type": "markdown",
   "id": "5ffafdb6",
   "metadata": {},
   "source": [
    "## 5. Data Exploration and Cleaning Summary"
   ]
  },
  {
   "cell_type": "markdown",
   "id": "112090fc",
   "metadata": {},
   "source": [
    "### 5.1 Dataset Structure\n",
    "\n",
    "The original dataset consisted of [X] rows and [Y] columns, covering various aspects of Premier League matches, teams, and players. \n",
    "\n",
    "### 5.2 Data Quality Issues\n",
    "\n",
    "During our data cleaning process, we identified and addressed the following issues:\n",
    "- Missing values: [Summary of missing value handling]\n",
    "- Duplicate entries: [Summary of duplicate handling]\n",
    "- Data type conversions: [Summary of data type conversions]\n",
    "- Outliers: [Summary of outlier handling]\n",
    "\n",
    "### 5.3 Feature Engineering\n",
    "\n",
    "We created the following new features to enhance our analysis:\n",
    "- [Feature 1]: [Description]\n",
    "- [Feature 2]: [Description]\n",
    "- [Feature 3]: [Description]"
   ]
  },
  {
   "cell_type": "markdown",
   "id": "02699273",
   "metadata": {},
   "source": [
    "## 6. Statistical Analysis Highlights"
   ]
  },
  {
   "cell_type": "markdown",
   "id": "4e76a7e3",
   "metadata": {},
   "source": [
    "### 6.1 Descriptive Statistics"
   ]
  },
  {
   "cell_type": "code",
   "execution_count": null,
   "id": "fabcf49c",
   "metadata": {},
   "outputs": [],
   "source": [
    "# Display descriptive statistics for key metrics\n",
    "# Placeholder - to be replaced with actual key metrics\n",
    "# key_metrics = ['column1', 'column2', 'column3']\n",
    "# df[key_metrics].describe()"
   ]
  },
  {
   "cell_type": "markdown",
   "id": "b813f789",
   "metadata": {},
   "source": [
    "### 6.2 Correlation Analysis"
   ]
  },
  {
   "cell_type": "code",
   "execution_count": null,
   "id": "0a753502",
   "metadata": {},
   "outputs": [],
   "source": [
    "# Display correlation heatmap for key metrics\n",
    "# Placeholder - to be replaced with actual key metrics\n",
    "# numerical_cols = df.select_dtypes(include=['int64', 'float64']).columns\n",
    "# plt.figure(figsize=(14, 10))\n",
    "# sns.heatmap(df[numerical_cols].corr(), annot=True, cmap='coolwarm', linewidths=0.5)\n",
    "# plt.title('Correlation Matrix')\n",
    "# plt.xticks(rotation=45, ha='right')\n",
    "# plt.tight_layout()\n",
    "# plt.show()"
   ]
  },
  {
   "cell_type": "markdown",
   "id": "0808f693",
   "metadata": {},
   "source": [
    "### 6.3 Hypothesis Testing Results"
   ]
  },
  {
   "cell_type": "markdown",
   "id": "48e50856",
   "metadata": {},
   "source": [
    "We conducted several hypothesis tests to answer key questions about Premier League performance:\n",
    "\n",
    "1. **Hypothesis 1:** [Description]\n",
    "   - Result: [p-value, test statistic]\n",
    "   - Conclusion: [Interpretation]\n",
    "\n",
    "2. **Hypothesis 2:** [Description]\n",
    "   - Result: [p-value, test statistic]\n",
    "   - Conclusion: [Interpretation]\n",
    "\n",
    "3. **Hypothesis 3:** [Description]\n",
    "   - Result: [p-value, test statistic]\n",
    "   - Conclusion: [Interpretation]"
   ]
  },
  {
   "cell_type": "markdown",
   "id": "5608d8fb",
   "metadata": {},
   "source": [
    "## 7. Key Visualizations"
   ]
  },
  {
   "cell_type": "markdown",
   "id": "bd58989c",
   "metadata": {},
   "source": [
    "### 7.1 Team Performance"
   ]
  },
  {
   "cell_type": "code",
   "execution_count": null,
   "id": "d3a90321",
   "metadata": {},
   "outputs": [],
   "source": [
    "# Team performance visualization\n",
    "# Placeholder - to be replaced with actual visualization\n",
    "# plt.figure(figsize=(14, 8))\n",
    "# sns.barplot(x='team', y='points', data=df.sort_values('points', ascending=False).head(10))\n",
    "# plt.title('Top 10 Teams by Points')\n",
    "# plt.xlabel('Team')\n",
    "# plt.ylabel('Points')\n",
    "# plt.xticks(rotation=45, ha='right')\n",
    "# plt.tight_layout()\n",
    "# plt.show()"
   ]
  },
  {
   "cell_type": "markdown",
   "id": "b3885c57",
   "metadata": {},
   "source": [
    "### 7.2 Player Performance"
   ]
  },
  {
   "cell_type": "code",
   "execution_count": null,
   "id": "2d48b7f0",
   "metadata": {},
   "outputs": [],
   "source": [
    "# Player performance visualization\n",
    "# Placeholder - to be replaced with actual visualization\n",
    "# plt.figure(figsize=(14, 8))\n",
    "# sns.barplot(x='player', y='goals', data=df.sort_values('goals', ascending=False).head(10))\n",
    "# plt.title('Top 10 Goal Scorers')\n",
    "# plt.xlabel('Player')\n",
    "# plt.ylabel('Goals')\n",
    "# plt.xticks(rotation=45, ha='right')\n",
    "# plt.tight_layout()\n",
    "# plt.show()"
   ]
  },
  {
   "cell_type": "markdown",
   "id": "4329e319",
   "metadata": {},
   "source": [
    "### 7.3 Match Statistics"
   ]
  },
  {
   "cell_type": "code",
   "execution_count": null,
   "id": "e2a958c9",
   "metadata": {},
   "outputs": [],
   "source": [
    "# Match statistics visualization\n",
    "# Placeholder - to be replaced with actual visualization\n",
    "# fig = px.scatter(df, x='home_possession', y='away_possession', color='result',\n",
    "#                 hover_name='match', size='total_goals',\n",
    "#                 title='Home vs. Away Possession by Match Result')\n",
    "# fig.show()"
   ]
  },
  {
   "cell_type": "markdown",
   "id": "62b455cc",
   "metadata": {},
   "source": [
    "## 8. Predictive Modeling Results"
   ]
  },
  {
   "cell_type": "markdown",
   "id": "94bf30de",
   "metadata": {},
   "source": [
    "### 8.1 Model Performance Comparison"
   ]
  },
  {
   "cell_type": "code",
   "execution_count": null,
   "id": "8bf9e0b2",
   "metadata": {},
   "outputs": [],
   "source": [
    "# Model performance comparison\n",
    "# Placeholder - to be replaced with actual model comparison\n",
    "# model_results = pd.DataFrame({\n",
    "#     'Model': ['Logistic Regression', 'Random Forest', 'Gradient Boosting', 'XGBoost', 'SVM'],\n",
    "#     'Accuracy': [0.75, 0.82, 0.84, 0.85, 0.79],\n",
    "#     'Precision': [0.76, 0.83, 0.84, 0.86, 0.80],\n",
    "#     'Recall': [0.75, 0.82, 0.84, 0.85, 0.79],\n",
    "#     'F1 Score': [0.75, 0.82, 0.84, 0.85, 0.79]\n",
    "# })\n",
    "# \n",
    "# model_results_melted = model_results.melt(id_vars=['Model'], var_name='Metric', value_name='Score')\n",
    "# \n",
    "# plt.figure(figsize=(14, 8))\n",
    "# sns.barplot(x='Model', y='Score', hue='Metric', data=model_results_melted)\n",
    "# plt.title('Model Performance Comparison')\n",
    "# plt.ylim(0, 1)\n",
    "# plt.xticks(rotation=45)\n",
    "# plt.legend(title='Metric')\n",
    "# plt.tight_layout()\n",
    "# plt.show()"
   ]
  },
  {
   "cell_type": "markdown",
   "id": "68aa2eb3",
   "metadata": {},
   "source": [
    "### 8.2 Feature Importance"
   ]
  },
  {
   "cell_type": "code",
   "execution_count": null,
   "id": "163b13e3",
   "metadata": {},
   "outputs": [],
   "source": [
    "# Feature importance visualization\n",
    "# Placeholder - to be replaced with actual feature importance\n",
    "# feature_importance = pd.DataFrame({\n",
    "#     'Feature': ['feature1', 'feature2', 'feature3', 'feature4', 'feature5'],\n",
    "#     'Importance': [0.3, 0.25, 0.2, 0.15, 0.1]\n",
    "# }).sort_values('Importance', ascending=False)\n",
    "# \n",
    "# plt.figure(figsize=(12, 6))\n",
    "# sns.barplot(x='Importance', y='Feature', data=feature_importance)\n",
    "# plt.title('Feature Importance')\n",
    "# plt.tight_layout()\n",
    "# plt.show()"
   ]
  },
  {
   "cell_type": "markdown",
   "id": "4d2d7836",
   "metadata": {},
   "source": [
    "### 8.3 Model Predictions"
   ]
  },
  {
   "cell_type": "markdown",
   "id": "0dfb5304",
   "metadata": {},
   "source": [
    "Based on our best-performing model, we've made the following predictions:\n",
    "\n",
    "1. **League Table Prediction:** [Summary of predicted final standings]\n",
    "2. **Top Scorer Prediction:** [Summary of predicted top scorers]\n",
    "3. **Upcoming Match Predictions:** [Summary of predicted results for upcoming matches]"
   ]
  },
  {
   "cell_type": "markdown",
   "id": "9b36f4bc",
   "metadata": {},
   "source": [
    "## 9. Business Insights and Recommendations"
   ]
  },
  {
   "cell_type": "markdown",
   "id": "c57ed79f",
   "metadata": {},
   "source": [
    "### 9.1 Key Insights\n",
    "\n",
    "Based on our comprehensive analysis, we've identified the following key insights:\n",
    "\n",
    "1. **Insight 1:** [Description]\n",
    "   - Supporting Evidence: [Data points, visualizations, or statistics]\n",
    "   - Implications: [What this means for teams, players, or fans]\n",
    "\n",
    "2. **Insight 2:** [Description]\n",
    "   - Supporting Evidence: [Data points, visualizations, or statistics]\n",
    "   - Implications: [What this means for teams, players, or fans]\n",
    "\n",
    "3. **Insight 3:** [Description]\n",
    "   - Supporting Evidence: [Data points, visualizations, or statistics]\n",
    "   - Implications: [What this means for teams, players, or fans]\n",
    "\n",
    "### 9.2 Recommendations\n",
    "\n",
    "Based on our analysis, we recommend the following:\n",
    "\n",
    "1. **For Teams:**\n",
    "   - Recommendation 1: [Description]\n",
    "   - Recommendation 2: [Description]\n",
    "\n",
    "2. **For Players:**\n",
    "   - Recommendation 1: [Description]\n",
    "   - Recommendation 2: [Description]\n",
    "\n",
    "3. **For Fans and Bettors:**\n",
    "   - Recommendation 1: [Description]\n",
    "   - Recommendation 2: [Description]"
   ]
  },
  {
   "cell_type": "markdown",
   "id": "c6d96de8",
   "metadata": {},
   "source": [
    "## 10. Dashboard Information"
   ]
  },
  {
   "cell_type": "markdown",
   "id": "e14600a3",
   "metadata": {},
   "source": [
    "We've created an interactive dashboard to visualize our findings and allow for exploration of the Premier League data. The dashboard can be accessed by running:\n",
    "\n",
    "```\n",
    "streamlit run ../dashboard/app.py\n",
    "```\n",
    "\n",
    "The dashboard includes the following features:\n",
    "\n",
    "1. **Overview Page:** Summary statistics and league-wide visualizations\n",
    "2. **Team Analysis Page:** Detailed analysis of individual team performance\n",
    "3. **Player Statistics Page:** Analysis of player performance metrics\n",
    "4. **Match Predictions Page:** Predictions for upcoming matches\n",
    "5. **League Table Page:** Current and predicted final league standings"
   ]
  },
  {
   "cell_type": "markdown",
   "id": "126e95fe",
   "metadata": {},
   "source": [
    "## 11. Conclusion and Future Work"
   ]
  },
  {
   "cell_type": "markdown",
   "id": "84e400ff",
   "metadata": {},
   "source": [
    "### 11.1 Project Summary\n",
    "\n",
    "This project has demonstrated a comprehensive end-to-end data analysis of the Premier League 2024-25 season. We've applied data cleaning, exploratory analysis, statistical testing, visualization, and machine learning to extract valuable insights from the data.\n",
    "\n",
    "The analysis has revealed [key findings summary].\n",
    "\n",
    "### 11.2 Limitations\n",
    "\n",
    "While our analysis provides valuable insights, there are several limitations to consider:\n",
    "\n",
    "1. **Data Limitations:** [Description of data limitations]\n",
    "2. **Model Limitations:** [Description of model limitations]\n",
    "3. **Scope Limitations:** [Description of scope limitations]\n",
    "\n",
    "### 11.3 Future Work\n",
    "\n",
    "To further enhance this analysis, future work could include:\n",
    "\n",
    "1. **Additional Data Sources:** Incorporate player tracking data, injury reports, or transfer market information\n",
    "2. **Advanced Modeling:** Apply deep learning or time series forecasting techniques\n",
    "3. **Real-time Updates:** Create a system for updating predictions as new matches are played\n",
    "4. **Expanded Scope:** Extend the analysis to multiple seasons or other football leagues"
   ]
  },
  {
   "cell_type": "markdown",
   "id": "2a94433b",
   "metadata": {},
   "source": [
    "## 12. References"
   ]
  },
  {
   "cell_type": "markdown",
   "id": "c0d32a17",
   "metadata": {},
   "source": [
    "1. FBref. (2024). English Premier League Statistics 2024-25. [https://fbref.com/en/](https://fbref.com/en/)\n",
    "2. [Additional references as needed]"
   ]
  }
 ],
 "metadata": {
  "language_info": {
   "name": "python"
  }
 },
 "nbformat": 4,
 "nbformat_minor": 5
}
